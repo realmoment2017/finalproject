{
 "cells": [
  {
   "cell_type": "code",
   "execution_count": 1,
   "metadata": {},
   "outputs": [],
   "source": [
    "# Imports\n",
    "import pandas as pd\n",
    "import glob\n",
    "import numpy as np\n",
    "import time\n",
    "import matplotlib\n",
    "from matplotlib import pyplot as plt\n",
    "%matplotlib inline     \n",
    "## use `%matplotlib notebook` for interactive figures\n",
    "# plt.style.use('ggplot')\n",
    "import sklearn\n",
    "from sklearn.linear_model import LinearRegression\n",
    "\n",
    "import tigramite\n",
    "from tigramite import data_processing as pp\n",
    "from tigramite import plotting as tp\n",
    "from tigramite.pcmci import PCMCI\n",
    "from tigramite.independence_tests import ParCorr, GPDC, CMIknn, CMIsymb, RCOT\n",
    "\n",
    "def save_file(saving_name, matrix):\n",
    "    print(matrix.shape)\n",
    "    np.save(saving_name, matrix)"
   ]
  },
  {
   "cell_type": "markdown",
   "metadata": {},
   "source": [
    "# control group model learning"
   ]
  },
  {
   "cell_type": "code",
   "execution_count": 2,
   "metadata": {},
   "outputs": [
    {
     "name": "stdout",
     "output_type": "stream",
     "text": [
      "control training dataset size: (1774, 160)\n",
      "(160, 160, 2)\n",
      "4088 11752\n",
      "running time: 12157.8963618\n"
     ]
    }
   ],
   "source": [
    "# read data\n",
    "control_training_file_names = glob.glob('./new_fmri_data/fmri_data/controls_train/*.csv')\n",
    "# file_names = glob.glob('./fmri data/fmri data/controls/CMU_b_0050643_rois_dosenbach160.1D.csv')\n",
    "control_training_data = pd.concat([pd.read_csv(f, delimiter = '\\t') for f in control_training_file_names], ignore_index = True)\n",
    "control_training_data = control_training_data.drop(\"#223\", axis=1)\n",
    "control_training_data = np.array(control_training_data)\n",
    "print \"control training dataset size:\", control_training_data.shape\n",
    "\n",
    "# read data\n",
    "control_testing_file_names = glob.glob('./new_fmri_data/fmri_data/controls_test/*.csv')\n",
    "# file_names = glob.glob('./fmri data/fmri data/controls/CMU_b_0050643_rois_dosenbach160.1D.csv')\n",
    "control_testing_data = pd.concat([pd.read_csv(f, delimiter = '\\t') for f in control_testing_file_names], ignore_index = True)\n",
    "control_testing_data = control_testing_data.drop(\"#223\", axis=1)\n",
    "control_testing_data = np.array(control_testing_data)\n",
    "\n",
    "# Data must be array of shape (time, variables)\n",
    "t_start = time.time()\n",
    "\n",
    "control_dataframe = pp.DataFrame(control_training_data)\n",
    "# independence test methods: ParCorr, CMIknn, RCOT\n",
    "# cond_ind_test = ParCorr()\n",
    "# cond_ind_test = CMIknn()\n",
    "cond_ind_test = RCOT(significance='analytic')\n",
    "alpha  = 0.01\n",
    "\n",
    "control_pcmci = PCMCI(dataframe=control_dataframe, cond_ind_test=cond_ind_test)\n",
    "control_results = control_pcmci.run_pcmci(tau_max=1, pc_alpha=alpha)\n",
    "# control_pcmci.print_significant_links(p_matrix=control_results['p_matrix'],\n",
    "#                                      val_matrix=control_results['val_matrix'],\n",
    "#                                      alpha_level=alpha)\n",
    "\n",
    "control_link_matrix = control_pcmci.return_significant_parents(pq_matrix=control_results['p_matrix'], \\\n",
    "                                               val_matrix=control_results['val_matrix'], alpha_level=0.01)['link_matrix']\n",
    "\n",
    "saving_name = './RCOT_1e-2_control_link_matrix_all.npy'\n",
    "save_file(saving_name, control_link_matrix)\n",
    "\n",
    "\n",
    "print np.sum(control_link_matrix[:,:,0]), np.sum(control_link_matrix[:,:,1])\n",
    "print \"running time:\", time.time()-t_start"
   ]
  },
  {
   "cell_type": "markdown",
   "metadata": {},
   "source": [
    "# asd group model learning"
   ]
  },
  {
   "cell_type": "code",
   "execution_count": 3,
   "metadata": {},
   "outputs": [
    {
     "name": "stdout",
     "output_type": "stream",
     "text": [
      "asd training dataset size: (1642, 160)\n",
      "(160, 160, 2)\n",
      "485 12444\n",
      "running time: 8041.35152006\n"
     ]
    }
   ],
   "source": [
    "# read data\n",
    "asd_training_file_names = glob.glob('./new_fmri_data/fmri_data/asd_train/*.csv')\n",
    "# file_names = glob.glob('./fmri data/fmri data/controls/CMU_b_0050643_rois_dosenbach160.1D.csv')\n",
    "asd_training_data = pd.concat([pd.read_csv(f, delimiter = '\\t') for f in asd_training_file_names], ignore_index = True)\n",
    "asd_training_data = asd_training_data.drop(\"#223\", axis=1)\n",
    "asd_training_data = np.array(asd_training_data)\n",
    "print \"asd training dataset size:\", asd_training_data.shape\n",
    "\n",
    "# read data\n",
    "asd_testing_file_names = glob.glob('./new_fmri_data/fmri_data/asd_test/*.csv')\n",
    "# file_names = glob.glob('./fmri data/fmri data/controls/CMU_b_0050643_rois_dosenbach160.1D.csv')\n",
    "asd_testing_data = pd.concat([pd.read_csv(f, delimiter = '\\t') for f in asd_testing_file_names], ignore_index = True)\n",
    "asd_testing_data = asd_testing_data.drop(\"#223\", axis=1)\n",
    "asd_testing_data = np.array(asd_testing_data)\n",
    "\n",
    "# Data must be array of shape (time, variables)\n",
    "t_start = time.time()\n",
    "\n",
    "asd_dataframe = pp.DataFrame(asd_training_data)\n",
    "# independence test methods: ParCorr, CMIknn, RCOT\n",
    "# cond_ind_test = ParCorr()\n",
    "# cond_ind_test = CMIknn()\n",
    "cond_ind_test = RCOT(significance='analytic')\n",
    "alpha  = 0.01\n",
    "\n",
    "asd_pcmci = PCMCI(dataframe=asd_dataframe, cond_ind_test=cond_ind_test)\n",
    "asd_results = asd_pcmci.run_pcmci(tau_max=1, pc_alpha=alpha)\n",
    "# asd_pcmci.print_significant_links(p_matrix=asd_results['p_matrix'],\n",
    "#                                      val_matrix=asd_results['val_matrix'],\n",
    "#                                      alpha_level=alpha)\n",
    "\n",
    "asd_link_matrix = asd_pcmci.return_significant_parents(pq_matrix=asd_results['p_matrix'], \\\n",
    "                                               val_matrix=asd_results['val_matrix'], alpha_level=0.01)['link_matrix']\n",
    "\n",
    "saving_name = './RCOT_1e-2_asd_link_matrix_all.npy'\n",
    "save_file(saving_name, asd_link_matrix)\n",
    "\n",
    "\n",
    "print np.sum(asd_link_matrix[:,:,0]), np.sum(asd_link_matrix[:,:,1])\n",
    "print \"running time:\", time.time()-t_start"
   ]
  },
  {
   "cell_type": "markdown",
   "metadata": {},
   "source": [
    "# control group var state prediction"
   ]
  },
  {
   "cell_type": "code",
   "execution_count": 41,
   "metadata": {},
   "outputs": [
    {
     "name": "stdout",
     "output_type": "stream",
     "text": [
      "parent nodes: 56 [2, 6, 10, 16, 21, 22, 24, 28, 29, 30, 31, 33, 35, 41, 43, 44, 45, 47, 48, 49, 60, 66, 67, 70, 71, 77, 78, 80, 81, 82, 83, 84, 86, 88, 89, 91, 92, 95, 96, 97, 100, 101, 103, 105, 108, 110, 124, 128, 129, 131, 134, 144, 152, 155, 157, 159]"
     ]
    },
    {
     "data": {
      "text/plain": [
       "Text(0,0.5,'Predicted test data')"
      ]
     },
     "execution_count": 41,
     "metadata": {},
     "output_type": "execute_result"
    },
    {
     "name": "stdout",
     "output_type": "stream",
     "text": [
      "\n"
     ]
    },
    {
     "data": {
      "image/png": "[encoded data removed]",
      "text/plain": [
       "<Figure size 432x288 with 1 Axes>"
      ]
     },
     "metadata": {},
     "output_type": "display_data"
    }
   ],
   "source": [
    "child_node = 100\n",
    "\n",
    "t_1 = control_link_matrix[:,child_node][:,1]\n",
    "parent_node = [idx for idx in range(t_1.shape[0]) if t_1[idx]==True]\n",
    "print \"parent nodes:\", len(parent_node), parent_node,\n",
    "\n",
    "X_train = control_training_data[:,parent_node][:-1]\n",
    "y_train = control_training_data[:,child_node][1:]\n",
    "\n",
    "reg = LinearRegression().fit(X_train, y_train)\n",
    "\n",
    "plt.scatter(y_train.reshape(-1), (X_train.dot(reg.coef_.reshape(-1,1))+reg.intercept_))\n",
    "plt.plot(y_train.reshape(-1), y_train.reshape(-1), 'k-')\n",
    "plt.xlabel('True test data')\n",
    "plt.ylabel('Predicted test data')\n",
    "\n",
    "\n",
    "X_test = control_testing_data[:,parent_node][:-1]\n",
    "y_test = control_testing_data[:,child_node][1:]\n",
    "\n",
    "plt.scatter(y_test.reshape(-1), (X_test.dot(reg.coef_.reshape(-1,1))+reg.intercept_))\n",
    "plt.plot(y_test.reshape(-1), y_test.reshape(-1), 'k-')\n",
    "plt.xlabel('True test data')\n",
    "plt.ylabel('Predicted test data')"
   ]
  },
  {
   "cell_type": "markdown",
   "metadata": {},
   "source": [
    "# asd group var state prediction"
   ]
  },
  {
   "cell_type": "code",
   "execution_count": 40,
   "metadata": {},
   "outputs": [
    {
     "name": "stdout",
     "output_type": "stream",
     "text": [
      "parent nodes: [2, 9, 11, 15, 17, 20, 24, 25, 26, 28, 32, 34, 35, 38, 49, 52, 72, 73, 74, 76, 91, 92, 100, 101, 107, 114, 115, 127, 129, 131, 135, 138, 141, 146, 150, 155]\n"
     ]
    },
    {
     "data": {
      "text/plain": [
       "Text(0,0.5,'Predicted test data')"
      ]
     },
     "execution_count": 40,
     "metadata": {},
     "output_type": "execute_result"
    },
    {
     "data": {
      "image/png": "[encoded data removed]",
      "text/plain": [
       "<Figure size 432x288 with 1 Axes>"
      ]
     },
     "metadata": {},
     "output_type": "display_data"
    }
   ],
   "source": [
    "child_node = 100\n",
    "\n",
    "t_1 = asd_link_matrix[:,child_node][:,1]\n",
    "parent_node = [idx for idx in range(t_1.shape[0]) if t_1[idx]==True]\n",
    "print \"parent nodes:\", parent_node\n",
    "\n",
    "X_train = asd_training_data[:,parent_node][:-1]\n",
    "y_train = asd_training_data[:,child_node][1:]\n",
    "\n",
    "reg = LinearRegression().fit(X_train, y_train)\n",
    "\n",
    "plt.scatter(y_train.reshape(-1), (X_train.dot(reg.coef_.reshape(-1,1))+reg.intercept_))\n",
    "plt.plot(y_train.reshape(-1), y_train.reshape(-1), 'k-')\n",
    "plt.xlabel('True test data')\n",
    "plt.ylabel('Predicted test data')\n",
    "\n",
    "\n",
    "X_test = asd_testing_data[:,parent_node][:-1]\n",
    "y_test = asd_testing_data[:,child_node][1:]\n",
    "\n",
    "plt.scatter(y_test.reshape(-1), (X_test.dot(reg.coef_.reshape(-1,1))+reg.intercept_))\n",
    "plt.plot(y_test.reshape(-1), y_test.reshape(-1), 'k-')\n",
    "plt.xlabel('True test data')\n",
    "plt.ylabel('Predicted test data')"
   ]
  },
  {
   "cell_type": "markdown",
   "metadata": {},
   "source": [
    "# predict whether the person is asd?"
   ]
  },
  {
   "cell_type": "code",
   "execution_count": 6,
   "metadata": {},
   "outputs": [],
   "source": [
    "# predict diagnosis statistics: the number of different connections\n",
    "\n",
    "def matrix_comparison(m, control_matrix, asd_matrix, person_code=1):   \n",
    "    print \"************************************************\"\n",
    "    print \"Statistics:\"\n",
    "    # inter-slice comparison\n",
    "    control_num_diff_links = np.sum(m[:,:,1]!=control_matrix[:,:,1])\n",
    "    asd_num_diff_links = np.sum(m[:,:,1]!=asd_matrix[:,:,1])\n",
    "    print \"interslice different links------ control group:\", control_num_diff_links, \\\n",
    "                                            \"     asd group\", asd_num_diff_links\n",
    "    # intra-slice comparison\n",
    "    control_num_diff_links = np.sum(m[:,:,0]!=control_matrix[:,:,0])\n",
    "    asd_num_diff_links = np.sum(m[:,:,0]!=asd_matrix[:,:,0])\n",
    "    print \"intraslice different links------ control group:\", control_num_diff_links, \\\n",
    "                                            \"     asd group\", asd_num_diff_links\n",
    "    \n",
    "    # overall comparison\n",
    "    control_num_diff_links = np.sum(m!=control_matrix)\n",
    "    asd_num_diff_links = np.sum(m!=asd_matrix)\n",
    "    print \"total number of different links------ control group:\", control_num_diff_links, \\\n",
    "                                            \"     asd group\", asd_num_diff_links\n",
    "        \n",
    "    print \"************************************************\"\n",
    "    if control_num_diff_links<asd_num_diff_links:\n",
    "        print \"person name:\", person_code, \"IF ASD? NO\"\n",
    "    else:\n",
    "        print \"person name:\", person_code, \"         IF ASD? YES\"\n",
    "        \n",
    "    print \"************************************************\"\n",
    "    print \" \"\n",
    "\n",
    "# matrix_comparison(person_link_matrix, control_link_matrix, asd_link_matrix, \"lucky\")\n"
   ]
  },
  {
   "cell_type": "code",
   "execution_count": 35,
   "metadata": {},
   "outputs": [
    {
     "name": "stdout",
     "output_type": "stream",
     "text": [
      "personal data format (320, 160)\n",
      "running time: 1149.94472218\n",
      "10208 1251\n",
      "************************************************\n",
      "Statistics:\n",
      "interslice different links------ control group: 11559      asd group 12455\n",
      "intraslice different links------ control group: 9060      asd group 9999\n",
      "total number of different links------ control group: 20619      asd group 22454\n",
      "************************************************\n",
      "person name: ./new_fmri_data/fmri_data/controls_test/CMU_b_0050669_rois_dosenbach160.1D.csv IF ASD? NO\n",
      "************************************************\n",
      " \n",
      "personal data format (244, 160)\n",
      "running time: 996.206916094\n",
      "6012 1157\n",
      "************************************************\n",
      "Statistics:\n",
      "interslice different links------ control group: 11631      asd group 12571\n",
      "intraslice different links------ control group: 7036      asd group 6085\n",
      "total number of different links------ control group: 18667      asd group 18656\n",
      "************************************************\n",
      "person name: ./new_fmri_data/fmri_data/controls_test/CMU_b_0050648_rois_dosenbach160.1D.csv          IF ASD? YES\n",
      "************************************************\n",
      " \n",
      "personal data format (315, 160)\n",
      "running time: 1243.99768281\n",
      "6268 1259\n",
      "************************************************\n",
      "Statistics:\n",
      "interslice different links------ control group: 11587      asd group 12381\n",
      "intraslice different links------ control group: 6754      asd group 6193\n",
      "total number of different links------ control group: 18341      asd group 18574\n",
      "************************************************\n",
      "person name: ./new_fmri_data/fmri_data/controls_test/CMU_b_0050652_rois_dosenbach160.1D.csv IF ASD? NO\n",
      "************************************************\n",
      " \n",
      "personal data format (309, 160)\n",
      "running time: 1214.16455412\n",
      "4365 1047\n",
      "************************************************\n",
      "Statistics:\n",
      "interslice different links------ control group: 11589      asd group 12433\n",
      "intraslice different links------ control group: 5889      asd group 4430\n",
      "total number of different links------ control group: 17478      asd group 16863\n",
      "************************************************\n",
      "person name: ./new_fmri_data/fmri_data/controls_test/CMU_b_0050661_rois_dosenbach160.1D.csv          IF ASD? YES\n",
      "************************************************\n",
      " \n",
      "personal data format (291, 160)\n",
      "running time: 1169.79503417\n",
      "6457 1034\n",
      "************************************************\n",
      "Statistics:\n",
      "interslice different links------ control group: 11700      asd group 12340\n",
      "intraslice different links------ control group: 6791      asd group 6424\n",
      "total number of different links------ control group: 18491      asd group 18764\n",
      "************************************************\n",
      "person name: ./new_fmri_data/fmri_data/controls_test/CMU_b_0050644_rois_dosenbach160.1D.csv IF ASD? NO\n",
      "************************************************\n",
      " \n"
     ]
    }
   ],
   "source": [
    "# for each one in the control_test group, predict whether the person is with asd?\n",
    "# read data\n",
    "control_testing_file_names = glob.glob('./new_fmri_data/fmri_data/controls_test/*.csv')\n",
    "\n",
    "for f in control_testing_file_names:\n",
    "    person_data = pd.read_csv(f, delimiter = '\\t')\n",
    "    person_data = person_data.drop(\"#223\", axis=1)\n",
    "    person_data = np.array(person_data)\n",
    "    print \"personal data format\", person_data.shape\n",
    "\n",
    "\n",
    "    # Data must be array of shape (time, variables)\n",
    "    t_start = time.time()\n",
    "\n",
    "    person_dataframe = pp.DataFrame(person_data)\n",
    "    # independence test methods: ParCorr, CMIknn, RCOT\n",
    "#     cond_ind_test = ParCorr()\n",
    "    # cond_ind_test = CMIknn()\n",
    "    cond_ind_test = RCOT(significance='analytic')\n",
    "    alpha  = 0.01\n",
    "\n",
    "    person_pcmci = PCMCI(dataframe=person_dataframe, cond_ind_test=cond_ind_test)\n",
    "    person_results = person_pcmci.run_pcmci(tau_max=1, pc_alpha=alpha)\n",
    "    # person_pcmci.print_significant_links(p_matrix=person_results['p_matrix'],\n",
    "    #                                      val_matrix=person_results['val_matrix'],\n",
    "    #                                      alpha_level=alpha)\n",
    "    person_link_matrix = person_pcmci.return_significant_parents(pq_matrix=person_results['p_matrix'], \\\n",
    "                                                   val_matrix=person_results['val_matrix'], alpha_level=0.01)['link_matrix']\n",
    "\n",
    "    print \"running time:\", time.time()-t_start\n",
    "    print np.sum(person_link_matrix[:,:,0]), np.sum(person_link_matrix[:,:,1])\n",
    "    matrix_comparison(person_link_matrix, control_link_matrix, asd_link_matrix, f)"
   ]
  },
  {
   "cell_type": "code",
   "execution_count": 36,
   "metadata": {},
   "outputs": [
    {
     "name": "stdout",
     "output_type": "stream",
     "text": [
      "personal data format (225, 160)\n",
      "running time: 871.856982946\n",
      "7806 1110\n",
      "************************************************\n",
      "Statistics:\n",
      "interslice different links------ control group: 11632      asd group 12420\n",
      "intraslice different links------ control group: 8060      asd group 7739\n",
      "total number of different links------ control group: 19692      asd group 20159\n",
      "************************************************\n",
      "person name: ./new_fmri_data/fmri_data/asd_test/CMU_a_0050653_rois_dosenbach160.1D.csv IF ASD? NO\n",
      "************************************************\n",
      " \n",
      "personal data format (225, 160)\n",
      "running time: 886.35626483\n",
      "5071 1090\n",
      "************************************************\n",
      "Statistics:\n",
      "interslice different links------ control group: 11708      asd group 12372\n",
      "intraslice different links------ control group: 6365      asd group 5068\n",
      "total number of different links------ control group: 18073      asd group 17440\n",
      "************************************************\n",
      "person name: ./new_fmri_data/fmri_data/asd_test/CMU_a_0050666_rois_dosenbach160.1D.csv          IF ASD? YES\n",
      "************************************************\n",
      " \n",
      "personal data format (220, 160)\n",
      "running time: 810.359714985\n",
      "5207 973\n",
      "************************************************\n",
      "Statistics:\n",
      "interslice different links------ control group: 11601      asd group 12421\n",
      "intraslice different links------ control group: 6579      asd group 5232\n",
      "total number of different links------ control group: 18180      asd group 17653\n",
      "************************************************\n",
      "person name: ./new_fmri_data/fmri_data/asd_test/CMU_a_0050664_rois_dosenbach160.1D.csv          IF ASD? YES\n",
      "************************************************\n",
      " \n",
      "personal data format (240, 160)\n",
      "running time: 901.199652195\n",
      "5011 994\n",
      "************************************************\n",
      "Statistics:\n",
      "interslice different links------ control group: 11564      asd group 12400\n",
      "intraslice different links------ control group: 6543      asd group 5106\n",
      "total number of different links------ control group: 18107      asd group 17506\n",
      "************************************************\n",
      "person name: ./new_fmri_data/fmri_data/asd_test/CMU_a_0050649_rois_dosenbach160.1D.csv          IF ASD? YES\n",
      "************************************************\n",
      " \n"
     ]
    }
   ],
   "source": [
    "# for each one in the asd_test group, predict whether the person is with asd?\n",
    "# read data\n",
    "asd_testing_file_names = glob.glob('./new_fmri_data/fmri_data/asd_test/*.csv')\n",
    "\n",
    "for f in asd_testing_file_names:\n",
    "    person_data = pd.read_csv(f, delimiter = '\\t')\n",
    "    person_data = person_data.drop(\"#223\", axis=1)\n",
    "    person_data = np.array(person_data)\n",
    "    print \"personal data format\", person_data.shape\n",
    "\n",
    "\n",
    "    # Data must be array of shape (time, variables)\n",
    "    t_start = time.time()\n",
    "\n",
    "    person_dataframe = pp.DataFrame(person_data)\n",
    "    # independence test methods: ParCorr, CMIknn, RCOT\n",
    "#     cond_ind_test = ParCorr()\n",
    "    # cond_ind_test = CMIknn()\n",
    "    cond_ind_test = RCOT(significance='analytic')\n",
    "    alpha  = 0.01\n",
    "\n",
    "    person_pcmci = PCMCI(dataframe=person_dataframe, cond_ind_test=cond_ind_test)\n",
    "    person_results = person_pcmci.run_pcmci(tau_max=1, pc_alpha=alpha)\n",
    "    # person_pcmci.print_significant_links(p_matrix=person_results['p_matrix'],\n",
    "    #                                      val_matrix=person_results['val_matrix'],\n",
    "    #                                      alpha_level=alpha)\n",
    "    person_link_matrix = person_pcmci.return_significant_parents(pq_matrix=person_results['p_matrix'], \\\n",
    "                                                   val_matrix=person_results['val_matrix'], alpha_level=0.01)['link_matrix']\n",
    "\n",
    "    print \"running time:\", time.time()-t_start\n",
    "    print np.sum(person_link_matrix[:,:,0]), np.sum(person_link_matrix[:,:,1])\n",
    "    matrix_comparison(person_link_matrix, control_link_matrix, asd_link_matrix, f)"
   ]
  }
 ],
 "metadata": {
  "kernelspec": {
   "display_name": "Python 2",
   "language": "python",
   "name": "python2"
  },
  "language_info": {
   "codemirror_mode": {
    "name": "ipython",
    "version": 2
   },
   "file_extension": ".py",
   "mimetype": "text/x-python",
   "name": "python",
   "nbconvert_exporter": "python",
   "pygments_lexer": "ipython2",
   "version": "2.7.12"
  }
 },
 "nbformat": 4,
 "nbformat_minor": 2
}
