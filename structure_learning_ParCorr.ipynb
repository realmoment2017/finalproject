{
 "cells": [
  {
   "cell_type": "code",
   "execution_count": 1,
   "metadata": {},
   "outputs": [],
   "source": [
    "# Imports\n",
    "import pandas as pd\n",
    "import glob\n",
    "import numpy as np\n",
    "import time\n",
    "import matplotlib\n",
    "from matplotlib import pyplot as plt\n",
    "%matplotlib inline     \n",
    "## use `%matplotlib notebook` for interactive figures\n",
    "# plt.style.use('ggplot')\n",
    "import sklearn\n",
    "from sklearn.linear_model import LinearRegression\n",
    "\n",
    "import tigramite\n",
    "from tigramite import data_processing as pp\n",
    "from tigramite import plotting as tp\n",
    "from tigramite.pcmci import PCMCI\n",
    "from tigramite.independence_tests import ParCorr, GPDC, CMIknn, CMIsymb, RCOT\n",
    "\n",
    "def save_file(saving_name, matrix):\n",
    "    print(matrix.shape)\n",
    "    np.save(saving_name, matrix)"
   ]
  },
  {
   "cell_type": "markdown",
   "metadata": {},
   "source": [
    "# control group model learning"
   ]
  },
  {
   "cell_type": "code",
   "execution_count": 2,
   "metadata": {},
   "outputs": [
    {
     "name": "stdout",
     "output_type": "stream",
     "text": [
      "control training dataset size: (1774, 160)\n",
      "(160, 160, 2)\n",
      "24558 974\n",
      "running time: 81.1981701851\n"
     ]
    }
   ],
   "source": [
    "# read data\n",
    "control_training_file_names = glob.glob('./new_fmri_data/fmri_data/controls_train/*.csv')\n",
    "# file_names = glob.glob('./fmri data/fmri data/controls/CMU_b_0050643_rois_dosenbach160.1D.csv')\n",
    "control_training_data = pd.concat([pd.read_csv(f, delimiter = '\\t') for f in control_training_file_names], ignore_index = True)\n",
    "control_training_data = control_training_data.drop(\"#223\", axis=1)\n",
    "control_training_data = np.array(control_training_data)\n",
    "print \"control training dataset size:\", control_training_data.shape\n",
    "\n",
    "# read data\n",
    "control_testing_file_names = glob.glob('./new_fmri_data/fmri_data/controls_test/*.csv')\n",
    "# file_names = glob.glob('./fmri data/fmri data/controls/CMU_b_0050643_rois_dosenbach160.1D.csv')\n",
    "control_testing_data = pd.concat([pd.read_csv(f, delimiter = '\\t') for f in control_testing_file_names], ignore_index = True)\n",
    "control_testing_data = control_testing_data.drop(\"#223\", axis=1)\n",
    "control_testing_data = np.array(control_testing_data)\n",
    "\n",
    "# Data must be array of shape (time, variables)\n",
    "t_start = time.time()\n",
    "\n",
    "control_dataframe = pp.DataFrame(control_training_data)\n",
    "# independence test methods: ParCorr, CMIknn, RCOT\n",
    "cond_ind_test = ParCorr()\n",
    "# cond_ind_test = CMIknn()\n",
    "# cond_ind_test = RCOT(significance='analytic')\n",
    "alpha  = 0.01\n",
    "\n",
    "control_pcmci = PCMCI(dataframe=control_dataframe, cond_ind_test=cond_ind_test)\n",
    "control_results = control_pcmci.run_pcmci(tau_max=1, pc_alpha=alpha)\n",
    "# control_pcmci.print_significant_links(p_matrix=control_results['p_matrix'],\n",
    "#                                      val_matrix=control_results['val_matrix'],\n",
    "#                                      alpha_level=alpha)\n",
    "\n",
    "control_link_matrix = control_pcmci.return_significant_parents(pq_matrix=control_results['p_matrix'], \\\n",
    "                                               val_matrix=control_results['val_matrix'], alpha_level=0.01)['link_matrix']\n",
    "\n",
    "saving_name = './ParCorr_1e-2_control_link_matrix_all.npy'\n",
    "save_file(saving_name, control_link_matrix)\n",
    "\n",
    "\n",
    "print np.sum(control_link_matrix[:,:,0]), np.sum(control_link_matrix[:,:,1])\n",
    "print \"running time:\", time.time()-t_start"
   ]
  },
  {
   "cell_type": "markdown",
   "metadata": {},
   "source": [
    "# asd group model learning"
   ]
  },
  {
   "cell_type": "code",
   "execution_count": 3,
   "metadata": {},
   "outputs": [
    {
     "name": "stdout",
     "output_type": "stream",
     "text": [
      "asd training dataset size: (1642, 160)\n",
      "(160, 160, 2)\n",
      "24444 461\n",
      "running time: 67.3931629658\n"
     ]
    }
   ],
   "source": [
    "# read data\n",
    "asd_training_file_names = glob.glob('./new_fmri_data/fmri_data/asd_train/*.csv')\n",
    "# file_names = glob.glob('./fmri data/fmri data/controls/CMU_b_0050643_rois_dosenbach160.1D.csv')\n",
    "asd_training_data = pd.concat([pd.read_csv(f, delimiter = '\\t') for f in asd_training_file_names], ignore_index = True)\n",
    "asd_training_data = asd_training_data.drop(\"#223\", axis=1)\n",
    "asd_training_data = np.array(asd_training_data)\n",
    "print \"asd training dataset size:\", asd_training_data.shape\n",
    "\n",
    "# read data\n",
    "asd_testing_file_names = glob.glob('./new_fmri_data/fmri_data/asd_test/*.csv')\n",
    "# file_names = glob.glob('./fmri data/fmri data/controls/CMU_b_0050643_rois_dosenbach160.1D.csv')\n",
    "asd_testing_data = pd.concat([pd.read_csv(f, delimiter = '\\t') for f in asd_testing_file_names], ignore_index = True)\n",
    "asd_testing_data = asd_testing_data.drop(\"#223\", axis=1)\n",
    "asd_testing_data = np.array(asd_testing_data)\n",
    "\n",
    "# Data must be array of shape (time, variables)\n",
    "t_start = time.time()\n",
    "\n",
    "asd_dataframe = pp.DataFrame(asd_training_data)\n",
    "# independence test methods: ParCorr, CMIknn, RCOT\n",
    "cond_ind_test = ParCorr()\n",
    "# cond_ind_test = CMIknn()\n",
    "# cond_ind_test = RCOT(significance='analytic')\n",
    "alpha  = 0.01\n",
    "\n",
    "asd_pcmci = PCMCI(dataframe=asd_dataframe, cond_ind_test=cond_ind_test)\n",
    "asd_results = asd_pcmci.run_pcmci(tau_max=1, pc_alpha=alpha)\n",
    "# asd_pcmci.print_significant_links(p_matrix=asd_results['p_matrix'],\n",
    "#                                      val_matrix=asd_results['val_matrix'],\n",
    "#                                      alpha_level=alpha)\n",
    "\n",
    "asd_link_matrix = asd_pcmci.return_significant_parents(pq_matrix=asd_results['p_matrix'], \\\n",
    "                                               val_matrix=asd_results['val_matrix'], alpha_level=0.01)['link_matrix']\n",
    "\n",
    "saving_name = './ParCorr_1e-2_asd_link_matrix_all.npy'\n",
    "save_file(saving_name, asd_link_matrix)\n",
    "\n",
    "\n",
    "print np.sum(asd_link_matrix[:,:,0]), np.sum(asd_link_matrix[:,:,1])\n",
    "print \"running time:\", time.time()-t_start"
   ]
  },
  {
   "cell_type": "markdown",
   "metadata": {},
   "source": [
    "# control group var state prediction"
   ]
  },
  {
   "cell_type": "code",
   "execution_count": 4,
   "metadata": {},
   "outputs": [
    {
     "name": "stdout",
     "output_type": "stream",
     "text": [
      "parent nodes: 6 [4, 53, 78, 100, 153, 157]"
     ]
    },
    {
     "data": {
      "text/plain": [
       "Text(0,0.5,'Predicted test data')"
      ]
     },
     "execution_count": 4,
     "metadata": {},
     "output_type": "execute_result"
    },
    {
     "name": "stdout",
     "output_type": "stream",
     "text": [
      "\n"
     ]
    },
    {
     "data": {
      "image/png": "[encoded data removed]",
      "text/plain": [
       "<Figure size 432x288 with 1 Axes>"
      ]
     },
     "metadata": {},
     "output_type": "display_data"
    }
   ],
   "source": [
    "child_node = 100\n",
    "\n",
    "t_1 = control_link_matrix[:,child_node][:,1]\n",
    "parent_node = [idx for idx in range(t_1.shape[0]) if t_1[idx]==True]\n",
    "print \"parent nodes:\", len(parent_node), parent_node,\n",
    "\n",
    "X_train = control_training_data[:,parent_node][:-1]\n",
    "y_train = control_training_data[:,child_node][1:]\n",
    "\n",
    "reg = LinearRegression().fit(X_train, y_train)\n",
    "\n",
    "plt.scatter(y_train.reshape(-1), (X_train.dot(reg.coef_.reshape(-1,1))+reg.intercept_))\n",
    "plt.plot(y_train.reshape(-1), y_train.reshape(-1), 'k-')\n",
    "plt.xlabel('True test data')\n",
    "plt.ylabel('Predicted test data')\n",
    "\n",
    "\n",
    "X_test = control_testing_data[:,parent_node][:-1]\n",
    "y_test = control_testing_data[:,child_node][1:]\n",
    "\n",
    "plt.scatter(y_test.reshape(-1), (X_test.dot(reg.coef_.reshape(-1,1))+reg.intercept_))\n",
    "plt.plot(y_test.reshape(-1), y_test.reshape(-1), 'k-')\n",
    "plt.xlabel('True test data')\n",
    "plt.ylabel('Predicted test data')"
   ]
  },
  {
   "cell_type": "markdown",
   "metadata": {},
   "source": [
    "# asd group var state prediction"
   ]
  },
  {
   "cell_type": "code",
   "execution_count": 5,
   "metadata": {},
   "outputs": [
    {
     "name": "stdout",
     "output_type": "stream",
     "text": [
      "parent nodes: [100]\n"
     ]
    },
    {
     "data": {
      "text/plain": [
       "Text(0,0.5,'Predicted test data')"
      ]
     },
     "execution_count": 5,
     "metadata": {},
     "output_type": "execute_result"
    },
    {
     "data": {
      "image/png": "[encoded data removed]",
      "text/plain": [
       "<Figure size 432x288 with 1 Axes>"
      ]
     },
     "metadata": {},
     "output_type": "display_data"
    }
   ],
   "source": [
    "child_node = 100\n",
    "\n",
    "t_1 = asd_link_matrix[:,child_node][:,1]\n",
    "parent_node = [idx for idx in range(t_1.shape[0]) if t_1[idx]==True]\n",
    "print \"parent nodes:\", parent_node\n",
    "\n",
    "X_train = asd_training_data[:,parent_node][:-1]\n",
    "y_train = asd_training_data[:,child_node][1:]\n",
    "\n",
    "reg = LinearRegression().fit(X_train, y_train)\n",
    "\n",
    "plt.scatter(y_train.reshape(-1), (X_train.dot(reg.coef_.reshape(-1,1))+reg.intercept_))\n",
    "plt.plot(y_train.reshape(-1), y_train.reshape(-1), 'k-')\n",
    "plt.xlabel('True test data')\n",
    "plt.ylabel('Predicted test data')\n",
    "\n",
    "\n",
    "X_test = asd_testing_data[:,parent_node][:-1]\n",
    "y_test = asd_testing_data[:,child_node][1:]\n",
    "\n",
    "plt.scatter(y_test.reshape(-1), (X_test.dot(reg.coef_.reshape(-1,1))+reg.intercept_))\n",
    "plt.plot(y_test.reshape(-1), y_test.reshape(-1), 'k-')\n",
    "plt.xlabel('True test data')\n",
    "plt.ylabel('Predicted test data')"
   ]
  },
  {
   "cell_type": "markdown",
   "metadata": {},
   "source": [
    "# predict whether the person is asd?"
   ]
  },
  {
   "cell_type": "code",
   "execution_count": 6,
   "metadata": {},
   "outputs": [],
   "source": [
    "# predict diagnosis statistics: the number of different connections\n",
    "\n",
    "def matrix_comparison(m, control_matrix, asd_matrix, person_code=1):   \n",
    "    print \"************************************************\"\n",
    "    print \"Statistics:\"\n",
    "    # inter-slice comparison\n",
    "    control_num_diff_links = np.sum(m[:,:,1]!=control_matrix[:,:,1])\n",
    "    asd_num_diff_links = np.sum(m[:,:,1]!=asd_matrix[:,:,1])\n",
    "    print \"interslice different links------ control group:\", control_num_diff_links, \\\n",
    "                                            \"     asd group\", asd_num_diff_links\n",
    "    # intra-slice comparison\n",
    "    control_num_diff_links = np.sum(m[:,:,0]!=control_matrix[:,:,0])\n",
    "    asd_num_diff_links = np.sum(m[:,:,0]!=asd_matrix[:,:,0])\n",
    "    print \"intraslice different links------ control group:\", control_num_diff_links, \\\n",
    "                                            \"     asd group\", asd_num_diff_links\n",
    "    \n",
    "    # overall comparison\n",
    "    control_num_diff_links = np.sum(m!=control_matrix)\n",
    "    asd_num_diff_links = np.sum(m!=asd_matrix)\n",
    "    print \"total number of different links------ control group:\", control_num_diff_links, \\\n",
    "                                            \"     asd group\", asd_num_diff_links\n",
    "        \n",
    "    print \"************************************************\"\n",
    "    if control_num_diff_links<asd_num_diff_links:\n",
    "        print \"person name:\", person_code, \"IF ASD? NO\"\n",
    "    else:\n",
    "        print \"person name:\", person_code, \"         IF ASD? YES\"\n",
    "        \n",
    "    print \"************************************************\"\n",
    "    print \" \"\n",
    "\n",
    "# matrix_comparison(person_link_matrix, control_link_matrix, asd_link_matrix, \"lucky\")\n"
   ]
  },
  {
   "cell_type": "code",
   "execution_count": 7,
   "metadata": {},
   "outputs": [
    {
     "name": "stdout",
     "output_type": "stream",
     "text": [
      "personal data format (320, 160)\n",
      "running time: 47.5581009388\n",
      "11432 1333\n",
      "************************************************\n",
      "Statistics:\n",
      "interslice different links------ control group: 2095      asd group 1624\n",
      "intraslice different links------ control group: 13710      asd group 13528\n",
      "total number of different links------ control group: 15805      asd group 15152\n",
      "************************************************\n",
      "person name: ./new_fmri_data/fmri_data/controls_test/CMU_b_0050669_rois_dosenbach160.1D.csv          IF ASD? YES\n",
      "************************************************\n",
      " \n",
      "personal data format (244, 160)\n",
      "running time: 49.0551362038\n",
      "6688 974\n",
      "************************************************\n",
      "Statistics:\n",
      "interslice different links------ control group: 1740      asd group 1273\n",
      "intraslice different links------ control group: 18226      asd group 18124\n",
      "total number of different links------ control group: 19966      asd group 19397\n",
      "************************************************\n",
      "person name: ./new_fmri_data/fmri_data/controls_test/CMU_b_0050648_rois_dosenbach160.1D.csv          IF ASD? YES\n",
      "************************************************\n",
      " \n",
      "personal data format (315, 160)\n",
      "running time: 52.2526321411\n",
      "7114 1098\n",
      "************************************************\n",
      "Statistics:\n",
      "interslice different links------ control group: 1798      asd group 1317\n",
      "intraslice different links------ control group: 17792      asd group 17734\n",
      "total number of different links------ control group: 19590      asd group 19051\n",
      "************************************************\n",
      "person name: ./new_fmri_data/fmri_data/controls_test/CMU_b_0050652_rois_dosenbach160.1D.csv          IF ASD? YES\n",
      "************************************************\n",
      " \n",
      "personal data format (309, 160)\n",
      "running time: 53.0900111198\n",
      "4738 964\n",
      "************************************************\n",
      "Statistics:\n",
      "interslice different links------ control group: 1698      asd group 1235\n",
      "intraslice different links------ control group: 20048      asd group 20030\n",
      "total number of different links------ control group: 21746      asd group 21265\n",
      "************************************************\n",
      "person name: ./new_fmri_data/fmri_data/controls_test/CMU_b_0050661_rois_dosenbach160.1D.csv          IF ASD? YES\n",
      "************************************************\n",
      " \n",
      "personal data format (291, 160)\n",
      "running time: 51.3310880661\n",
      "7452 920\n",
      "************************************************\n",
      "Statistics:\n",
      "interslice different links------ control group: 1676      asd group 1207\n",
      "intraslice different links------ control group: 17402      asd group 17496\n",
      "total number of different links------ control group: 19078      asd group 18703\n",
      "************************************************\n",
      "person name: ./new_fmri_data/fmri_data/controls_test/CMU_b_0050644_rois_dosenbach160.1D.csv          IF ASD? YES\n",
      "************************************************\n",
      " \n"
     ]
    }
   ],
   "source": [
    "# for each one in the control_test group, predict whether the person is with asd?\n",
    "# read data\n",
    "control_testing_file_names = glob.glob('./new_fmri_data/fmri_data/controls_test/*.csv')\n",
    "\n",
    "for f in control_testing_file_names:\n",
    "    person_data = pd.read_csv(f, delimiter = '\\t')\n",
    "    person_data = person_data.drop(\"#223\", axis=1)\n",
    "    person_data = np.array(person_data)\n",
    "    print \"personal data format\", person_data.shape\n",
    "\n",
    "\n",
    "    # Data must be array of shape (time, variables)\n",
    "    t_start = time.time()\n",
    "\n",
    "    person_dataframe = pp.DataFrame(person_data)\n",
    "    # independence test methods: ParCorr, CMIknn, RCOT\n",
    "    cond_ind_test = ParCorr()\n",
    "    # cond_ind_test = CMIknn()\n",
    "#     cond_ind_test = RCOT(significance='analytic')\n",
    "    alpha  = 0.01\n",
    "\n",
    "    person_pcmci = PCMCI(dataframe=person_dataframe, cond_ind_test=cond_ind_test)\n",
    "    person_results = person_pcmci.run_pcmci(tau_max=1, pc_alpha=alpha)\n",
    "    # person_pcmci.print_significant_links(p_matrix=person_results['p_matrix'],\n",
    "    #                                      val_matrix=person_results['val_matrix'],\n",
    "    #                                      alpha_level=alpha)\n",
    "    person_link_matrix = person_pcmci.return_significant_parents(pq_matrix=person_results['p_matrix'], \\\n",
    "                                                   val_matrix=person_results['val_matrix'], alpha_level=0.01)['link_matrix']\n",
    "\n",
    "    print \"running time:\", time.time()-t_start\n",
    "    print np.sum(person_link_matrix[:,:,0]), np.sum(person_link_matrix[:,:,1])\n",
    "    matrix_comparison(person_link_matrix, control_link_matrix, asd_link_matrix, f)"
   ]
  },
  {
   "cell_type": "code",
   "execution_count": 8,
   "metadata": {},
   "outputs": [
    {
     "name": "stdout",
     "output_type": "stream",
     "text": [
      "personal data format (225, 160)\n",
      "running time: 47.5301179886\n",
      "8664 1090\n",
      "************************************************\n",
      "Statistics:\n",
      "interslice different links------ control group: 1836      asd group 1351\n",
      "intraslice different links------ control group: 16554      asd group 16132\n",
      "total number of different links------ control group: 18390      asd group 17483\n",
      "************************************************\n",
      "person name: ./new_fmri_data/fmri_data/asd_test/CMU_a_0050653_rois_dosenbach160.1D.csv          IF ASD? YES\n",
      "************************************************\n",
      " \n",
      "personal data format (225, 160)\n",
      "running time: 43.6976380348\n",
      "5688 1077\n",
      "************************************************\n",
      "Statistics:\n",
      "interslice different links------ control group: 1869      asd group 1408\n",
      "intraslice different links------ control group: 19142      asd group 19096\n",
      "total number of different links------ control group: 21011      asd group 20504\n",
      "************************************************\n",
      "person name: ./new_fmri_data/fmri_data/asd_test/CMU_a_0050666_rois_dosenbach160.1D.csv          IF ASD? YES\n",
      "************************************************\n",
      " \n",
      "personal data format (220, 160)\n",
      "running time: 43.0382430553\n",
      "5866 861\n",
      "************************************************\n",
      "Statistics:\n",
      "interslice different links------ control group: 1655      asd group 1162\n",
      "intraslice different links------ control group: 19116      asd group 18950\n",
      "total number of different links------ control group: 20771      asd group 20112\n",
      "************************************************\n",
      "person name: ./new_fmri_data/fmri_data/asd_test/CMU_a_0050664_rois_dosenbach160.1D.csv          IF ASD? YES\n",
      "************************************************\n",
      " \n",
      "personal data format (240, 160)\n",
      "running time: 45.7501189709\n",
      "5864 853\n",
      "************************************************\n",
      "Statistics:\n",
      "interslice different links------ control group: 1567      asd group 1086\n",
      "intraslice different links------ control group: 18894      asd group 18936\n",
      "total number of different links------ control group: 20461      asd group 20022\n",
      "************************************************\n",
      "person name: ./new_fmri_data/fmri_data/asd_test/CMU_a_0050649_rois_dosenbach160.1D.csv          IF ASD? YES\n",
      "************************************************\n",
      " \n"
     ]
    }
   ],
   "source": [
    "# for each one in the asd_test group, predict whether the person is with asd?\n",
    "# read data\n",
    "asd_testing_file_names = glob.glob('./new_fmri_data/fmri_data/asd_test/*.csv')\n",
    "\n",
    "for f in asd_testing_file_names:\n",
    "    person_data = pd.read_csv(f, delimiter = '\\t')\n",
    "    person_data = person_data.drop(\"#223\", axis=1)\n",
    "    person_data = np.array(person_data)\n",
    "    print \"personal data format\", person_data.shape\n",
    "\n",
    "\n",
    "    # Data must be array of shape (time, variables)\n",
    "    t_start = time.time()\n",
    "\n",
    "    person_dataframe = pp.DataFrame(person_data)\n",
    "    # independence test methods: ParCorr, CMIknn, RCOT\n",
    "    cond_ind_test = ParCorr()\n",
    "    # cond_ind_test = CMIknn()\n",
    "#     cond_ind_test = RCOT(significance='analytic')\n",
    "    alpha  = 0.01\n",
    "\n",
    "    person_pcmci = PCMCI(dataframe=person_dataframe, cond_ind_test=cond_ind_test)\n",
    "    person_results = person_pcmci.run_pcmci(tau_max=1, pc_alpha=alpha)\n",
    "    # person_pcmci.print_significant_links(p_matrix=person_results['p_matrix'],\n",
    "    #                                      val_matrix=person_results['val_matrix'],\n",
    "    #                                      alpha_level=alpha)\n",
    "    person_link_matrix = person_pcmci.return_significant_parents(pq_matrix=person_results['p_matrix'], \\\n",
    "                                                   val_matrix=person_results['val_matrix'], alpha_level=0.01)['link_matrix']\n",
    "\n",
    "    print \"running time:\", time.time()-t_start\n",
    "    print np.sum(person_link_matrix[:,:,0]), np.sum(person_link_matrix[:,:,1])\n",
    "    matrix_comparison(person_link_matrix, control_link_matrix, asd_link_matrix, f)"
   ]
  }
 ],
 "metadata": {
  "kernelspec": {
   "display_name": "Python 2",
   "language": "python",
   "name": "python2"
  },
  "language_info": {
   "codemirror_mode": {
    "name": "ipython",
    "version": 2
   },
   "file_extension": ".py",
   "mimetype": "text/x-python",
   "name": "python",
   "nbconvert_exporter": "python",
   "pygments_lexer": "ipython2",
   "version": "2.7.12"
  }
 },
 "nbformat": 4,
 "nbformat_minor": 2
}
